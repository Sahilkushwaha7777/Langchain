{
  "nbformat": 4,
  "nbformat_minor": 0,
  "metadata": {
    "colab": {
      "provenance": []
    },
    "kernelspec": {
      "name": "python3",
      "display_name": "Python 3"
    },
    "language_info": {
      "name": "python"
    }
  },
  "cells": [
    {
      "cell_type": "code",
      "source": [
        "# Install required packages first:\n",
        "%pip install fastapi uvicorn langchain langchain-groq langchain-core langchain-community pyngrok"
      ],
      "metadata": {
        "collapsed": true,
        "id": "YoIBw0vsXBmB"
      },
      "execution_count": null,
      "outputs": []
    },
    {
      "cell_type": "code",
      "source": [
        "\n",
        "\n",
        "import os\n",
        "from fastapi import FastAPI\n",
        "from pydantic import BaseModel\n",
        "from langchain_groq import ChatGroq\n",
        "from langchain_core.messages import SystemMessage, HumanMessage, AIMessage\n",
        "\n",
        "# Set your Groq API key (you can also set via environment variable before running uvicorn)\n",
        "os.environ[\"GROQ_API_KEY\"] = \"grok_api_key\"\n",
        "\n",
        "# Initialize FastAPI\n",
        "app = FastAPI(title=\"Nirvaan AI Chatbot API\")\n",
        "\n",
        "# Initialize model\n",
        "llm = ChatGroq(model=\"llama-3.1-8b-instant\")\n",
        "\n",
        "# Store conversation history per session (in-memory for now)\n",
        "chat_history = [\n",
        "    SystemMessage(\n",
        "        content=(\n",
        "            \"You are a compassionate and supportive mental health chatbot designed for students. \"\n",
        "            \"Your mission is to provide empathetic, safe, and multilingual psychological support for \"\n",
        "            \"students dealing with stress, anxiety, exam pressure, loneliness, and emotional struggles. \"\n",
        "            \"If the user asks about unrelated topics (like cricket, news, general knowledge etc.), \"\n",
        "            \"gently remind them: 'I am here to support your mental wellbeing and student life challenges. \"\n",
        "            \"Would you like to share how you are feeling?'\"\n",
        "        )\n",
        "    )\n",
        "]\n",
        "\n",
        "# Define request/response schema\n",
        "class ChatRequest(BaseModel):\n",
        "    message: str\n",
        "\n",
        "class ChatResponse(BaseModel):\n",
        "    response: str\n",
        "\n",
        "@app.post(\"/chat\", response_model=ChatResponse)\n",
        "def chat(request: ChatRequest):\n",
        "    user_message = request.message\n",
        "\n",
        "    # Add user input to history\n",
        "    chat_history.append(HumanMessage(content=user_message))\n",
        "\n",
        "    # Get model response\n",
        "    result = llm.invoke(chat_history)\n",
        "\n",
        "    # Append AI response\n",
        "    chat_history.append(AIMessage(content=result.content))\n",
        "\n",
        "    return ChatResponse(response=result.content)\n"
      ],
      "metadata": {
        "id": "E6UNZTk1VPpe"
      },
      "execution_count": null,
      "outputs": []
    }
  ]
}